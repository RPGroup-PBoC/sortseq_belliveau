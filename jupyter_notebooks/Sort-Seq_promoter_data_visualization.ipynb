{
 "cells": [
  {
   "cell_type": "code",
   "execution_count": 1,
   "metadata": {
    "collapsed": true
   },
   "outputs": [],
   "source": [
    "# load in the usual Python tools:\n",
    "import os\n",
    "import glob\n",
    "import pickle\n",
    "import re\n",
    "\n",
    "# Our numerical workhorses\n",
    "import numpy as np\n",
    "import pandas as pd\n",
    "\n",
    "# Import the project utils\n",
    "import sys\n",
    "sys.path.insert(0, '../code/')\n",
    "import NB_sortseq_utils as utils\n",
    "\n",
    "# Import matplotlib stuff for plotting\n",
    "import matplotlib.pyplot as plt\n",
    "import matplotlib.cm as cm\n",
    "\n",
    "# Seaborn, useful for graphics\n",
    "import seaborn as sns\n",
    "\n",
    "sns.set_palette(\"deep\", color_codes=True)\n",
    "utils.set_plotting_style1()\n",
    "%matplotlib inline"
   ]
  },
  {
   "cell_type": "markdown",
   "metadata": {},
   "source": [
    "We first need to load in all the processed Sort-Seq summary files:"
   ]
  },
  {
   "cell_type": "code",
   "execution_count": 2,
   "metadata": {
    "collapsed": true
   },
   "outputs": [],
   "source": [
    "datadir = '../code/sortseq/*/'\n",
    "files = glob.glob(datadir+'*_summary.csv')\n",
    "\n",
    "df = pd.DataFrame()\n",
    "\n",
    "for f in enumerate(files):\n",
    "    df_temp = pd.DataFrame()\n",
    "    df_temp = pd.read_csv(f[1])\n",
    "    # append data to df\n",
    "    df = df.append(df_temp)"
   ]
  },
  {
   "cell_type": "markdown",
   "metadata": {},
   "source": [
    "We can then take a look at what Sort-Seq experiments are available to plot:"
   ]
  },
  {
   "cell_type": "code",
   "execution_count": 3,
   "metadata": {},
   "outputs": [
    {
     "name": "stdout",
     "output_type": "stream",
     "text": [
      "(promoter, strain, growth media, condition, date)\n",
      "------------------------------------\n",
      "('dgoR', 'JK10', 'EZrichgalactonate', '500cAMP', 20160921)\n",
      "('dgoR', 'JK10', 'EZrichglucose', '0cAMP', 20160921)\n",
      "('dgoR', 'JK10', 'M9galactonate', 'na', 20160920)\n",
      "('dgoR', 'MG1655', 'M9galactonate', 'na', 20160707)\n",
      "('dgoR', 'MG1655', 'M9galactonate', 'na', 20160710)\n",
      "('dgoR', 'MG1655', 'M9glucose', 'na', 20160707)\n",
      "('dgoR', 'MG1655', 'M9glucose', 'na', 20160710)\n",
      "('dgoR', 'MG1655deltadgoR', 'M9galactonate', 'na', 20160921)\n",
      "('dgoR', 'MG1655deltadgoR', 'M9glucose', 'na', 20160824)\n",
      "('lacZ', 'MG1655', 'M9glucose', 'na', 2011)\n",
      "('marR', 'MG1655', 'LB', 'na', 20150513)\n",
      "('marR', 'MG1655', 'LB', 'na', 20150820)\n",
      "('marR', 'MG1655deltamarR', 'LB', 'na', 20150513)\n",
      "('marR', 'MG1655deltamarRAB', 'LB', 'na', 20150513)\n",
      "('purT', 'MG1655', 'M9glucose', 'adenine', 20160710)\n",
      "('purT', 'MG1655', 'M9glucose', 'na', 20160710)\n",
      "('purT', 'MG1655deltapurR', 'M9glucose', 'adenine', 20160824)\n",
      "('relB', 'MG1655', 'M9glucose', '15percentile', 20150519)\n",
      "('relB', 'MG1655', 'M9glucose', '22percentile', 20150519)\n",
      "('relB', 'MG1655', 'M9glucose', '8bins', 20150519)\n",
      "('relB', 'MG1655', 'M9glucose', 'na', 20150312)\n",
      "('relB', 'MG1655', 'M9glucose', 'ns', 20150312)\n",
      "('relB', 'MG1655deltarelBE', 'M9glucose', 'na', 20150513)\n",
      "('xylE', 'MG1655', 'M9xylose', 'na', 20160710)\n",
      "('yebG', 'MG1655', 'M9glucose', 'mitoC', 20170717)\n",
      "('yebG', 'MG1655', 'M9glucose', 'na', 20170717)\n"
     ]
    }
   ],
   "source": [
    "grouped_df = df[['promoter','strain','media', 'condition', 'date']].copy()\n",
    "grouped_df = grouped_df.groupby(['promoter','strain','media','condition', 'date'])\n",
    "\n",
    "print('(promoter, strain, growth media, condition, date)')\n",
    "print('------------------------------------')\n",
    "for key, item in grouped_df:\n",
    "    print(key)"
   ]
  },
  {
   "cell_type": "markdown",
   "metadata": {},
   "source": [
    "As an example, lets say we want to plot our _lacZ_ promoter data, with cells grown in M9 minimal media with 0.5% glucose (strain MG1655). We will create a new pandas dataframe to hold only this data:"
   ]
  },
  {
   "cell_type": "code",
   "execution_count": 4,
   "metadata": {
    "collapsed": true
   },
   "outputs": [],
   "source": [
    "df_forplotting = df[(df.promoter == 'yebG') & \n",
    "        (df.strain == 'MG1655') & \n",
    "        (df.media == 'M9glucose') &\n",
    "        (df.condition == 'na') &\n",
    "        (df.date==20170717)].copy()"
   ]
  },
  {
   "cell_type": "markdown",
   "metadata": {},
   "source": [
    "Now we can plot the data. Use function 'utils.plot_data(df_forplotting, [type]).\n",
    "\n",
    "Set [type] equal to the following:  \n",
    "'expshift' for an expression shift plot.  \n",
    "'infofootprint' for an information footprint plot.  \n",
    "'mutrate' for a plot of mutation rate across the mutated windows."
   ]
  },
  {
   "cell_type": "code",
   "execution_count": 5,
   "metadata": {},
   "outputs": [
    {
     "data": {
      "image/png": "[encoded data removed]",
      "text/plain": [
       "<matplotlib.figure.Figure at 0x1058291d0>"
      ]
     },
     "metadata": {},
     "output_type": "display_data"
    }
   ],
   "source": [
    "utils.plot_data(df_forplotting,'expshift')\n",
    "\n",
    "# save to file\n",
    "plt.tight_layout()\n",
    "figname_out = '20171017_purT_expshift.pdf'\n",
    "# plt.savefig(figname_out, format='pdf')"
   ]
  },
  {
   "cell_type": "code",
   "execution_count": 7,
   "metadata": {},
   "outputs": [
    {
     "data": {
      "text/html": [
       "<div>\n",
       "<style scoped>\n",
       "    .dataframe tbody tr th:only-of-type {\n",
       "        vertical-align: middle;\n",
       "    }\n",
       "\n",
       "    .dataframe tbody tr th {\n",
       "        vertical-align: top;\n",
       "    }\n",
       "\n",
       "    .dataframe thead th {\n",
       "        text-align: right;\n",
       "    }\n",
       "</style>\n",
       "<table border=\"1\" class=\"dataframe\">\n",
       "  <thead>\n",
       "    <tr style=\"text-align: right;\">\n",
       "      <th></th>\n",
       "      <th>MI</th>\n",
       "      <th>WT_bp</th>\n",
       "      <th>bincount</th>\n",
       "      <th>condition</th>\n",
       "      <th>date</th>\n",
       "      <th>delta_bin</th>\n",
       "      <th>delta_bin_3bpavg</th>\n",
       "      <th>expshift</th>\n",
       "      <th>expshift_3bpavg</th>\n",
       "      <th>expshift_yerr_lower</th>\n",
       "      <th>expshift_yerr_upper</th>\n",
       "      <th>media</th>\n",
       "      <th>mutation_rate</th>\n",
       "      <th>mutregion</th>\n",
       "      <th>position</th>\n",
       "      <th>promoter</th>\n",
       "      <th>seq_files</th>\n",
       "      <th>strain</th>\n",
       "    </tr>\n",
       "  </thead>\n",
       "  <tbody>\n",
       "    <tr>\n",
       "      <th>0</th>\n",
       "      <td>0.000059</td>\n",
       "      <td>G</td>\n",
       "      <td>4</td>\n",
       "      <td>na</td>\n",
       "      <td>20170717</td>\n",
       "      <td>NaN</td>\n",
       "      <td>NaN</td>\n",
       "      <td>0.003770</td>\n",
       "      <td>0.003373</td>\n",
       "      <td>NaN</td>\n",
       "      <td>NaN</td>\n",
       "      <td>M9glucose</td>\n",
       "      <td>0.163025</td>\n",
       "      <td>mut1</td>\n",
       "      <td>-119</td>\n",
       "      <td>yebG</td>\n",
       "      <td>['../../../data/sortseq_raw/20170717_yebG_repe...</td>\n",
       "      <td>MG1655</td>\n",
       "    </tr>\n",
       "    <tr>\n",
       "      <th>1</th>\n",
       "      <td>0.000014</td>\n",
       "      <td>A</td>\n",
       "      <td>4</td>\n",
       "      <td>na</td>\n",
       "      <td>20170717</td>\n",
       "      <td>NaN</td>\n",
       "      <td>NaN</td>\n",
       "      <td>0.002448</td>\n",
       "      <td>0.002436</td>\n",
       "      <td>NaN</td>\n",
       "      <td>NaN</td>\n",
       "      <td>M9glucose</td>\n",
       "      <td>0.093702</td>\n",
       "      <td>mut1</td>\n",
       "      <td>-118</td>\n",
       "      <td>yebG</td>\n",
       "      <td>['../../../data/sortseq_raw/20170717_yebG_repe...</td>\n",
       "      <td>MG1655</td>\n",
       "    </tr>\n",
       "    <tr>\n",
       "      <th>2</th>\n",
       "      <td>0.000009</td>\n",
       "      <td>T</td>\n",
       "      <td>4</td>\n",
       "      <td>na</td>\n",
       "      <td>20170717</td>\n",
       "      <td>NaN</td>\n",
       "      <td>NaN</td>\n",
       "      <td>0.004212</td>\n",
       "      <td>0.004416</td>\n",
       "      <td>NaN</td>\n",
       "      <td>NaN</td>\n",
       "      <td>M9glucose</td>\n",
       "      <td>0.126939</td>\n",
       "      <td>mut1</td>\n",
       "      <td>-117</td>\n",
       "      <td>yebG</td>\n",
       "      <td>['../../../data/sortseq_raw/20170717_yebG_repe...</td>\n",
       "      <td>MG1655</td>\n",
       "    </tr>\n",
       "    <tr>\n",
       "      <th>3</th>\n",
       "      <td>0.000021</td>\n",
       "      <td>T</td>\n",
       "      <td>4</td>\n",
       "      <td>na</td>\n",
       "      <td>20170717</td>\n",
       "      <td>NaN</td>\n",
       "      <td>NaN</td>\n",
       "      <td>0.009469</td>\n",
       "      <td>0.010183</td>\n",
       "      <td>NaN</td>\n",
       "      <td>NaN</td>\n",
       "      <td>M9glucose</td>\n",
       "      <td>0.139296</td>\n",
       "      <td>mut1</td>\n",
       "      <td>-116</td>\n",
       "      <td>yebG</td>\n",
       "      <td>['../../../data/sortseq_raw/20170717_yebG_repe...</td>\n",
       "      <td>MG1655</td>\n",
       "    </tr>\n",
       "    <tr>\n",
       "      <th>4</th>\n",
       "      <td>0.000066</td>\n",
       "      <td>A</td>\n",
       "      <td>4</td>\n",
       "      <td>na</td>\n",
       "      <td>20170717</td>\n",
       "      <td>NaN</td>\n",
       "      <td>NaN</td>\n",
       "      <td>0.016217</td>\n",
       "      <td>0.016394</td>\n",
       "      <td>NaN</td>\n",
       "      <td>NaN</td>\n",
       "      <td>M9glucose</td>\n",
       "      <td>0.105175</td>\n",
       "      <td>mut1</td>\n",
       "      <td>-115</td>\n",
       "      <td>yebG</td>\n",
       "      <td>['../../../data/sortseq_raw/20170717_yebG_repe...</td>\n",
       "      <td>MG1655</td>\n",
       "    </tr>\n",
       "  </tbody>\n",
       "</table>\n",
       "</div>"
      ],
      "text/plain": [
       "         MI WT_bp  bincount condition      date  delta_bin  delta_bin_3bpavg  \\\n",
       "0  0.000059     G         4        na  20170717        NaN               NaN   \n",
       "1  0.000014     A         4        na  20170717        NaN               NaN   \n",
       "2  0.000009     T         4        na  20170717        NaN               NaN   \n",
       "3  0.000021     T         4        na  20170717        NaN               NaN   \n",
       "4  0.000066     A         4        na  20170717        NaN               NaN   \n",
       "\n",
       "   expshift  expshift_3bpavg  expshift_yerr_lower  expshift_yerr_upper  \\\n",
       "0  0.003770         0.003373                  NaN                  NaN   \n",
       "1  0.002448         0.002436                  NaN                  NaN   \n",
       "2  0.004212         0.004416                  NaN                  NaN   \n",
       "3  0.009469         0.010183                  NaN                  NaN   \n",
       "4  0.016217         0.016394                  NaN                  NaN   \n",
       "\n",
       "       media  mutation_rate mutregion  position promoter  \\\n",
       "0  M9glucose       0.163025      mut1      -119     yebG   \n",
       "1  M9glucose       0.093702      mut1      -118     yebG   \n",
       "2  M9glucose       0.126939      mut1      -117     yebG   \n",
       "3  M9glucose       0.139296      mut1      -116     yebG   \n",
       "4  M9glucose       0.105175      mut1      -115     yebG   \n",
       "\n",
       "                                           seq_files  strain  \n",
       "0  ['../../../data/sortseq_raw/20170717_yebG_repe...  MG1655  \n",
       "1  ['../../../data/sortseq_raw/20170717_yebG_repe...  MG1655  \n",
       "2  ['../../../data/sortseq_raw/20170717_yebG_repe...  MG1655  \n",
       "3  ['../../../data/sortseq_raw/20170717_yebG_repe...  MG1655  \n",
       "4  ['../../../data/sortseq_raw/20170717_yebG_repe...  MG1655  "
      ]
     },
     "execution_count": 7,
     "metadata": {},
     "output_type": "execute_result"
    }
   ],
   "source": [
    "df_forplotting.head()"
   ]
  },
  {
   "cell_type": "code",
   "execution_count": null,
   "metadata": {
    "collapsed": true
   },
   "outputs": [],
   "source": []
  }
 ],
 "metadata": {
  "kernelspec": {
   "display_name": "Python 3",
   "language": "python",
   "name": "python3"
  },
  "language_info": {
   "codemirror_mode": {
    "name": "ipython",
    "version": 3
   },
   "file_extension": ".py",
   "mimetype": "text/x-python",
   "name": "python",
   "nbconvert_exporter": "python",
   "pygments_lexer": "ipython3",
   "version": "3.6.2"
  }
 },
 "nbformat": 4,
 "nbformat_minor": 2
}
