{
 "cells": [
  {
   "cell_type": "markdown",
   "metadata": {
    "collapsed": true
   },
   "source": [
    "# Supplemental Information Section B - Analysis of mutation frequency"
   ]
  },
  {
   "cell_type": "markdown",
   "metadata": {},
   "source": [
    "(c) 2017 the authors. This work is licensed under a [Creative Commons Attribution License CC-BY 4.0](https://creativecommons.org/licenses/by/4.0/). All code contained herein is licensed under an [MIT license](https://opensource.org/licenses/MIT). "
   ]
  },
  {
   "cell_type": "code",
   "execution_count": 1,
   "metadata": {
    "collapsed": true
   },
   "outputs": [],
   "source": [
    "import scipy as sp\n",
    "import scipy.ndimage\n",
    "\n",
    "# Our numerical workhorses\n",
    "import numpy as np\n",
    "import pandas as pd\n",
    "\n",
    "# Import the project utils\n",
    "import sys\n",
    "sys.path.insert(0, '../')\n",
    "import NB_sortseq_utils as utils\n",
    "\n",
    "# Import matplotlib stuff for plotting\n",
    "import matplotlib.pyplot as plt\n",
    "import matplotlib.cm as cm\n",
    "from IPython.core.pylabtools import figsize\n",
    "\n",
    "# Seaborn, useful for graphics\n",
    "import seaborn as sns\n",
    "\n",
    "sns.set_palette(\"deep\", color_codes=True)\n",
    "utils.set_plotting_style1()\n",
    "\n",
    "%matplotlib inline"
   ]
  },
  {
   "cell_type": "code",
   "execution_count": 4,
   "metadata": {
    "collapsed": true
   },
   "outputs": [],
   "source": [
    "# load in library sequences \n",
    "\n",
    "mut_region_start = 0\n",
    "mut_region_length = 70\n",
    "\n",
    "data_fn = '../../data/sortseq_pymc_dump/20150513_marR_MG1655_LB_na_mut1_4bins_seq.csv'"
   ]
  },
  {
   "cell_type": "code",
   "execution_count": 5,
   "metadata": {},
   "outputs": [],
   "source": [
    "#======================================================#\n",
    "# load sequences and convert to matrix representation\n",
    "#======================================================#\n",
    "\n",
    "f = open(data_fn)\n",
    "roi_list = [(line.split(',')[0][mut_region_start:mut_region_start+mut_region_length], line.split(',')[1].strip()) for line in f if line.strip()]\n",
    "f.close()    \n",
    "\n",
    "# number of sequences\n",
    "N = len(roi_list)\n",
    "\n",
    "# Convert each sequence into matrix representation\n",
    "seq_mat = sp.zeros((4,mut_region_length,N),dtype=int)\n",
    "\n",
    "for i, line in enumerate(roi_list):\n",
    "    seq_mat[:,:,i] = utils.seq2mat(line[0])"
   ]
  },
  {
   "cell_type": "code",
   "execution_count": 6,
   "metadata": {
    "collapsed": true
   },
   "outputs": [],
   "source": [
    "#======================================================#\n",
    "# We also need to know what the wild-type sequence was\n",
    "# to calculate number of mutations. Lets load those in.\n",
    "#======================================================#\n",
    "\n",
    "data_fn_wt = 'input_data/seq_WT_marmut1.txt'\n",
    "\n",
    "seq_mat_wt = sp.zeros((4,mut_region_length,1),dtype=int)\n",
    "seq_mat_wt_inv = sp.zeros((4,mut_region_length,1),dtype=int)\n",
    "\n",
    "f = open(data_fn_wt)\n",
    "for i, line in enumerate(f):\n",
    "    if line.strip():\n",
    "        sb = line.split(',')\n",
    "        seq_mat_wt[:,:,i] = utils.seq2mat(sb[0][0:mut_region_length])\n",
    "f.close()\n",
    "\n",
    "# To determine whether a matrix has a mutation, I will\n",
    "# multiply (inner product) it by an inverted wild-type \n",
    "# sequence (positions associated with wild-type sequence \n",
    "# have value 0, and 1 otherwise). The sum of this matrix\n",
    "# product will give the number of mutations.\n",
    "# Let's generate this inverted wild-type matrix.\n",
    "for i in range(0,mut_region_length):\n",
    "    for j in range(0,4):\n",
    "        if seq_mat_wt[j,i] ==1:\n",
    "            seq_mat_wt_inv[j,i] = 0\n",
    "        else:\n",
    "            seq_mat_wt_inv[j,i] = 1"
   ]
  },
  {
   "cell_type": "code",
   "execution_count": 7,
   "metadata": {
    "collapsed": true
   },
   "outputs": [],
   "source": [
    "#======================================================#\n",
    "# calculate 'mutation' matrices\n",
    "#======================================================#\n",
    "\n",
    "seq_mat_mut = np.zeros((4,mut_region_length,N),dtype=int)\n",
    "for i in range(0,N):\n",
    "    seq_mat_mut[:,:,i] = seq_mat[:,:,i] * seq_mat_wt_inv[:,:,0]"
   ]
  },
  {
   "cell_type": "code",
   "execution_count": 8,
   "metadata": {},
   "outputs": [
    {
     "name": "stdout",
     "output_type": "stream",
     "text": [
      "Considering sequences with  1  mutations.\n",
      "Considering sequences with  2  mutations.\n",
      "Considering sequences with  3  mutations.\n",
      "Considering sequences with  4  mutations.\n",
      "Considering sequences with  5  mutations.\n",
      "Considering sequences with  6  mutations.\n",
      "Considering sequences with  7  mutations.\n",
      "Considering sequences with  8  mutations.\n",
      "Considering sequences with  9  mutations.\n",
      "Considering sequences with  10  mutations.\n",
      "Considering sequences with  11  mutations.\n",
      "Considering sequences with  12  mutations.\n",
      "Considering sequences with  13  mutations.\n",
      "Considering sequences with  14  mutations.\n",
      "Considering sequences with  15  mutations.\n",
      "Considering sequences with  16  mutations.\n",
      "Considering sequences with  17  mutations.\n",
      "Considering sequences with  18  mutations.\n",
      "Considering sequences with  19  mutations.\n",
      "Considering sequences with  20  mutations.\n",
      "Considering sequences with  21  mutations.\n",
      "Considering sequences with  22  mutations.\n",
      "Considering sequences with  23  mutations.\n",
      "Considering sequences with  24  mutations.\n"
     ]
    }
   ],
   "source": [
    "#======================================================#\n",
    "# Calculate number of sequences that have 1-30\n",
    "# mutations in their sequence.\n",
    "# This will take a while. I bet there is a better way\n",
    "# to calculate this.\n",
    "#======================================================#\n",
    "N_mut = np.zeros(25,dtype=int)\n",
    "\n",
    "for i in range(0,25):\n",
    "    seq_mat_mut_temp = seq_mat_mut.copy()\n",
    "    \n",
    "    # A matrix will sum to 4 if it has 4 mutations.\n",
    "    # Use this to check number of sequences with i mutations\n",
    "    if i == 0:\n",
    "        count = 0\n",
    "        for j in range(0,N):\n",
    "            if seq_mat_mut_temp[:,:,j].sum() !=i:\n",
    "                seq_mat_mut_temp[:,:,j] = seq_mat_mut_temp[:,:,j]*0.0\n",
    "            else:\n",
    "                count += 1\n",
    "        N_mut[i] = count\n",
    "        continue\n",
    "    for j in range(0,N):\n",
    "        if seq_mat_mut_temp[:,:,j].sum() !=i:\n",
    "            seq_mat_mut_temp[:,:,j] = seq_mat_mut_temp[:,:,j]*0.0\n",
    "    # divide by number of mutations (sum of each good matrix)\n",
    "    N_mut[i] = seq_mat_mut_temp.sum()/i\n",
    "    print('Considering sequences with ',i, ' mutations.')\n"
   ]
  },
  {
   "cell_type": "code",
   "execution_count": 9,
   "metadata": {},
   "outputs": [
    {
     "data": {
      "image/png": "[encoded data removed]",
      "text/plain": [
       "<matplotlib.figure.Figure at 0x1bfaafdeb8>"
      ]
     },
     "metadata": {},
     "output_type": "display_data"
    }
   ],
   "source": [
    "#======================================================#\n",
    "# plot the result\n",
    "#======================================================#\n",
    "ind = np.arange(0,25)\n",
    "ind = np.arange(25)/70\n",
    "fig = plt.figure(1, figsize(5, 4))\n",
    "ax = plt.subplot(111)            \n",
    "plt.bar(ind,100*(N_mut/N), width=0.015)\n",
    "# ax.set_xlim(0,0.35)\n",
    "ax.set_ylabel('percent of sequences')\n",
    "ax.set_xlabel('mutations / base pair')\n",
    "ax.grid(b=False)\n",
    "\n",
    "plt.tight_layout()\n",
    "\n",
    "figname_out = 'output_figs/figS1_mutation_histogram.pdf'\n",
    "fig.savefig(figname_out, format='pdf')"
   ]
  },
  {
   "cell_type": "code",
   "execution_count": null,
   "metadata": {
    "collapsed": true
   },
   "outputs": [],
   "source": []
  }
 ],
 "metadata": {
  "kernelspec": {
   "display_name": "Python 2",
   "language": "python",
   "name": "python2"
  },
  "language_info": {
   "codemirror_mode": {
    "name": "ipython",
    "version": 2
   },
   "file_extension": ".py",
   "mimetype": "text/x-python",
   "name": "python",
   "nbconvert_exporter": "python",
   "pygments_lexer": "ipython2",
   "version": "2.7.14"
  }
 },
 "nbformat": 4,
 "nbformat_minor": 2
}
