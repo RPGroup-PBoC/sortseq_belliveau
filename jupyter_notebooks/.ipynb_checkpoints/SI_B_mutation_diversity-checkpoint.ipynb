{
 "cells": [
  {
   "cell_type": "markdown",
   "metadata": {
    "collapsed": true
   },
   "source": [
    "# Supplemental Information Section B - Analysis of library diversity"
   ]
  },
  {
   "cell_type": "markdown",
   "metadata": {},
   "source": [
    "(c) 2017 the authors. This work is licensed under a [Creative Commons Attribution License CC-BY 4.0](https://creativecommons.org/licenses/by/4.0/). All code contained herein is licensed under an [MIT license](https://opensource.org/licenses/MIT). "
   ]
  },
  {
   "cell_type": "code",
   "execution_count": 1,
   "metadata": {
    "collapsed": true
   },
   "outputs": [],
   "source": [
    "import scipy.ndimage\n",
    "\n",
    "# Our numerical workhorses\n",
    "import numpy as np\n",
    "import pandas as pd\n",
    "import scipy as sp\n",
    "\n",
    "# Import the project utils\n",
    "import sys\n",
    "sys.path.insert(0, '../')\n",
    "import NB_sortseq_utils as utils\n",
    "\n",
    "# Import matplotlib stuff for plotting\n",
    "import matplotlib.pyplot as plt\n",
    "import matplotlib.cm as cm\n",
    "from IPython.core.pylabtools import figsize\n",
    "\n",
    "# Seaborn, useful for graphics\n",
    "import seaborn as sns\n",
    "\n",
    "sns.set_palette(\"deep\", color_codes=True)\n",
    "utils.set_plotting_style1()\n",
    "\n",
    "%matplotlib inline"
   ]
  },
  {
   "cell_type": "code",
   "execution_count": 2,
   "metadata": {
    "collapsed": true
   },
   "outputs": [],
   "source": [
    "# load in library sequences \n",
    "\n",
    "mut_region_start = 0\n",
    "mut_region_length = 70\n",
    "\n",
    "data_fn = '../../data/sortseq_pymc_dump/20150513_marR_MG1655_LB_na_mut1_4bins_seq.csv'"
   ]
  },
  {
   "cell_type": "code",
   "execution_count": 3,
   "metadata": {},
   "outputs": [],
   "source": [
    "#======================================================#\n",
    "# load sequences and convert to matrix representation\n",
    "#======================================================#\n",
    "\n",
    "f = open(data_fn)\n",
    "roi_list = [(line.split(',')[0][mut_region_start:mut_region_start+mut_region_length], line.split(',')[1].strip()) for line in f if line.strip()]\n",
    "f.close()    \n",
    "\n",
    "# We only want unqiue sequences \n",
    "# read lines into one big list and transform into a set. This\n",
    "# automatically gets rid of duplicate lines of sequences.\n",
    "lines_unique = list(set(roi_list))\n",
    "N = len(lines_unique)\n",
    "\n",
    "# Convert each sequence into matrix representation\n",
    "seq_mat = sp.zeros((4,mut_region_length,N),dtype=int)\n",
    "\n",
    "for i, line in enumerate(lines_unique):\n",
    "    seq_mat[:,:,i] = utils.seq2mat(line[0])"
   ]
  },
  {
   "cell_type": "code",
   "execution_count": 4,
   "metadata": {
    "collapsed": true
   },
   "outputs": [],
   "source": [
    "#======================================================#\n",
    "# We also need to know what the wild-type sequence was\n",
    "# to calculate number of mutations. Lets load those in.\n",
    "#======================================================#\n",
    "\n",
    "data_fn_wt = 'input_data/seq_WT_marmut1.txt'\n",
    "\n",
    "seq_mat_wt = sp.zeros((4,mut_region_length,1),dtype=int)\n",
    "seq_mat_wt_inv = sp.zeros((4,mut_region_length,1),dtype=int)\n",
    "\n",
    "f = open(data_fn_wt)\n",
    "for i, line in enumerate(f):\n",
    "    if line.strip():\n",
    "        sb = line.split(',')\n",
    "        seq_mat_wt[:,:,i] = utils.seq2mat(sb[0][0:mut_region_length])\n",
    "f.close()\n",
    "\n",
    "# To determine whether a matrix has a mutation, I will\n",
    "# multiply (inner product) it by an inverted wild-type \n",
    "# sequence (positions associated with wild-type sequence \n",
    "# have value 0, and 1 otherwise). The sum of this matrix\n",
    "# product will give the number of mutations.\n",
    "# Let's generate this inverted wild-type matrix.\n",
    "for i in range(0,mut_region_length):\n",
    "    for j in range(0,4):\n",
    "        if seq_mat_wt[j,i] ==1:\n",
    "            seq_mat_wt_inv[j,i] = 0\n",
    "        else:\n",
    "            seq_mat_wt_inv[j,i] = 1\n"
   ]
  },
  {
   "cell_type": "code",
   "execution_count": 5,
   "metadata": {
    "collapsed": true
   },
   "outputs": [],
   "source": [
    "#======================================================#\n",
    "# calculate 'mutation' matrices\n",
    "#======================================================#\n",
    "\n",
    "seq_mat_mut = sp.zeros((4,mut_region_length,N),dtype=int)\n",
    "for i in range(0,N):\n",
    "    seq_mat_mut[:,:,i] = seq_mat[:,:,i] * seq_mat_wt_inv[:,:,0]\n"
   ]
  },
  {
   "cell_type": "code",
   "execution_count": 6,
   "metadata": {},
   "outputs": [
    {
     "name": "stdout",
     "output_type": "stream",
     "text": [
      "[210, 43470, 8867880]\n"
     ]
    }
   ],
   "source": [
    "#======================================================#\n",
    "# generate array to hold fraction of possible\n",
    "# single, two-point, and three-point mutations.\n",
    "#======================================================#\n",
    "\n",
    "N_mut = sp.zeros(3,dtype=int)\n",
    "N_possible = [(3*mut_region_length),\n",
    "             (3*mut_region_length)*(3*(mut_region_length-1)),\n",
    "             (3*mut_region_length)*(3*(mut_region_length-1))*(3*(mut_region_length-2))]\n",
    "print(N_possible)\n"
   ]
  },
  {
   "cell_type": "code",
   "execution_count": 7,
   "metadata": {},
   "outputs": [],
   "source": [
    "#======================================================#\n",
    "# Determine number of unique single point mutations\n",
    "#======================================================#\n",
    "seq_mat_mut_temp = seq_mat_mut.copy()\n",
    "for i in range(0,N):\n",
    "    # A matrix will sum to 1 if it has 1 mutations.\n",
    "    # Use this to check number of sequences with 1 mutations\n",
    "    if seq_mat_mut_temp[:,:,i].sum() != 1:\n",
    "        seq_mat_mut_temp[:,:,i] = seq_mat_mut_temp[:,:,i]*0.0\n",
    "\n",
    "# Calculate fraction of possible 1 point mutants    \n",
    "N_mut[0] = seq_mat_mut_temp[:,:,:].sum()\n"
   ]
  },
  {
   "cell_type": "code",
   "execution_count": 8,
   "metadata": {},
   "outputs": [],
   "source": [
    "#======================================================#\n",
    "# Determine number of unique two point mutations\n",
    "#======================================================#\n",
    "seq_mat_mut_temp = seq_mat_mut.copy()\n",
    "for i in range(0,N):\n",
    "    # A matrix will sum to 2 if it has 2 mutations.\n",
    "    # Use this to check number of sequences with 2 mutations\n",
    "    if seq_mat_mut_temp[:,:,i].sum() != 2:\n",
    "        seq_mat_mut_temp[:,:,i] = seq_mat_mut_temp[:,:,i]*0.0\n",
    "\n",
    "# Divide by number of mutations, 2 (sum of each matrix will equal 2)        \n",
    "N_mut[1] = seq_mat_mut_temp.sum()/2\n"
   ]
  },
  {
   "cell_type": "code",
   "execution_count": 9,
   "metadata": {},
   "outputs": [],
   "source": [
    "#======================================================#\n",
    "# Determine number of unique three point mutations\n",
    "#======================================================#\n",
    "seq_mat_mut_temp = seq_mat_mut.copy()\n",
    "for i in range(0,N):\n",
    "    # A matrix will sum to 3 if it has 3 mutations.\n",
    "    # Use this to check number of sequences with 3 mutations\n",
    "    if seq_mat_mut_temp[:,:,i].sum() != 3:\n",
    "        seq_mat_mut_temp[:,:,i] = seq_mat_mut_temp[:,:,i]*0.0\n",
    "\n",
    "# Divide by number of mutations, 3 (sum of each matrix will equal 3)    \n",
    "N_mut[2] = seq_mat_mut_temp.sum()/3\n"
   ]
  },
  {
   "cell_type": "code",
   "execution_count": 10,
   "metadata": {},
   "outputs": [
    {
     "data": {
      "image/png": "[encoded data removed]",
      "text/plain": [
       "<matplotlib.figure.Figure at 0x10e78d160>"
      ]
     },
     "metadata": {},
     "output_type": "display_data"
    }
   ],
   "source": [
    "#======================================================#\n",
    "# plot the result\n",
    "#======================================================#\n",
    "fig = plt.figure(1, figsize(5, 4))\n",
    "ax = plt.subplot(111)             # the first subplot in the first figure\n",
    "plt.bar(np.arange(1,4),100*N_mut/N_possible)#, width=0.015)\n",
    "ax.set_xticks([1,2,3])\n",
    "ax.set_ylabel('fraction of possible\\nmutations samples')\n",
    "ax.set_xlabel('number of mutations\\nper sequence')\n",
    "ax.grid(b=False)\n",
    "\n",
    "plt.tight_layout()\n",
    "\n",
    "figname_out = 'output_figs/figS1_fraction_possible_mutations.pdf'\n",
    "fig.savefig(figname_out, format='pdf')"
   ]
  },
  {
   "cell_type": "code",
   "execution_count": null,
   "metadata": {
    "collapsed": true
   },
   "outputs": [],
   "source": []
  }
 ],
 "metadata": {
  "kernelspec": {
   "display_name": "Python 2",
   "language": "python",
   "name": "python2"
  },
  "language_info": {
   "codemirror_mode": {
    "name": "ipython",
    "version": 2
   },
   "file_extension": ".py",
   "mimetype": "text/x-python",
   "name": "python",
   "nbconvert_exporter": "python",
   "pygments_lexer": "ipython2",
   "version": "2.7.14"
  }
 },
 "nbformat": 4,
 "nbformat_minor": 2
}
