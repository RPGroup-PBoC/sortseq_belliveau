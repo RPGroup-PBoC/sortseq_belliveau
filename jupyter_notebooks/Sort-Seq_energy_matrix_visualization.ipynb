{
 "cells": [
  {
   "cell_type": "code",
   "execution_count": 1,
   "metadata": {
    "collapsed": true
   },
   "outputs": [],
   "source": [
    "# load in the usual Python tools:\n",
    "import os\n",
    "import glob\n",
    "import pickle\n",
    "import re\n",
    "\n",
    "# Our numerical workhorses\n",
    "import numpy as np\n",
    "import pandas as pd\n",
    "\n",
    "# Import the project utils\n",
    "import sys\n",
    "sys.path.insert(0, '../code/')\n",
    "import NB_sortseq_utils as utils\n",
    "import anylogo\n",
    "\n",
    "# Import matplotlib stuff for plotting\n",
    "import matplotlib.pyplot as plt\n",
    "import matplotlib.cm as cm\n",
    "\n",
    "# Seaborn, useful for graphics\n",
    "import seaborn as sns\n",
    "\n",
    "sns.set_palette(\"deep\", color_codes=True)\n",
    "utils.set_plotting_style1()\n",
    "%matplotlib inline"
   ]
  },
  {
   "cell_type": "markdown",
   "metadata": {},
   "source": [
    "We first need to load in all the processed Sort-Seq summary files:"
   ]
  },
  {
   "cell_type": "code",
   "execution_count": 2,
   "metadata": {
    "collapsed": true
   },
   "outputs": [],
   "source": [
    "datadir = '../code/sortseq/*/'\n",
    "files = glob.glob(datadir+'*_mean.csv')\n",
    "\n",
    "df = pd.DataFrame()\n",
    "\n",
    "for f in enumerate(files):\n",
    "    df_temp = pd.DataFrame()\n",
    "    df_temp = pd.read_csv(f[1])\n",
    "    # append data to df\n",
    "    df = df.append(df_temp)"
   ]
  },
  {
   "cell_type": "markdown",
   "metadata": {},
   "source": [
    "We can then take a look at what energy matrices are available to plot:"
   ]
  },
  {
   "cell_type": "code",
   "execution_count": 3,
   "metadata": {},
   "outputs": [
    {
     "name": "stdout",
     "output_type": "stream",
     "text": [
      "(promoter, strain, growth media, TF, date)\n",
      "------------------------------------\n",
      "('dgoR', 'JK10', 'EZrichgalactonate', '500cAMP', 'RNAP', 20160921)\n",
      "('dgoR', 'JK10', 'EZrichglucose', '0cAMP', 'RNAP', 20160921)\n",
      "('dgoR', 'MG1655', 'M9galactonate', 'na', 'RNAP_CRP', 20160707)\n",
      "('dgoR', 'MG1655', 'M9glucose', 'na', 'RNAP', 20160707)\n",
      "('dgoR', 'MG1655', 'M9glucose', 'na', 'RNAP_CRP', 20160707)\n",
      "('dgoR', 'MG1655deltadgoR', 'M9glucose', 'na', 'RNAP', 20160824)\n",
      "('dgoR', 'MG1655deltadgoR', 'M9glucose', 'na', 'RNAP_CRP', 20160824)\n",
      "('lacZ', 'MG1655', 'M9glucose', 'na', 'CRP', 2011)\n",
      "('lacZ', 'MG1655', 'M9glucose', 'na', 'LacI_O1', 2011)\n",
      "('lacZ', 'MG1655', 'M9glucose', 'na', 'LacI_O3', 2011)\n",
      "('lacZ', 'MG1655', 'M9glucose', 'na', 'RNAP', 2011)\n",
      "('marR', 'MG1655', 'LB', 'na', 'Fis', 20150820)\n",
      "('marR', 'MG1655', 'LB', 'na', 'MarA', 20150820)\n",
      "('marR', 'MG1655', 'LB', 'na', 'MarR_left', 20150513)\n",
      "('marR', 'MG1655', 'LB', 'na', 'MarR_right', 20150513)\n",
      "('marR', 'MG1655', 'LB', 'na', 'RNAP', 20150513)\n",
      "('marR', 'MG1655deltamarR', 'LB', 'na', 'Fis', 20150513)\n",
      "('marR', 'MG1655deltamarR', 'LB', 'na', 'MarA', 20150513)\n",
      "('marR', 'MG1655deltamarR', 'LB', 'na', 'RNAP', 20150513)\n",
      "('marR', 'MG1655deltamarRAB', 'LB', 'na', 'MarR_left', 20150513)\n",
      "('marR', 'MG1655deltamarRAB', 'LB', 'na', 'MarR_right', 20150513)\n",
      "('marR', 'MG1655deltamarRAB', 'LB', 'na', 'RNAP', 20150513)\n",
      "('purT', 'MG1655', 'M9glucose', 'adenine', 'PurR', 20160710)\n",
      "('purT', 'MG1655', 'M9glucose', 'adenine', 'RNAP', 20160710)\n",
      "('purT', 'MG1655deltapurR', 'M9glucose', 'adenine', 'RNAP', 20160824)\n",
      "('relB', 'MG1655', 'M9glucose', '15percentile', 'RNAP', 20150519)\n",
      "('relB', 'MG1655', 'M9glucose', '15percentile', 'RelBE', 20150519)\n",
      "('relB', 'MG1655', 'M9glucose', '22percentile', 'RNAP', 20150519)\n",
      "('relB', 'MG1655', 'M9glucose', '22percentile', 'RelBE', 20150519)\n",
      "('relB', 'MG1655', 'M9glucose', '8bins', 'RNAP', 20150519)\n",
      "('relB', 'MG1655', 'M9glucose', '8bins', 'RelBE', 20150519)\n",
      "('relB', 'MG1655', 'M9glucose', 'na', 'RNAP', 20150312)\n",
      "('relB', 'MG1655', 'M9glucose', 'na', 'RNAP', 20150513)\n",
      "('relB', 'MG1655', 'M9glucose', 'na', 'RelBE', 20150312)\n",
      "('relB', 'MG1655', 'M9glucose', 'na', 'RelBE', 20150513)\n",
      "('relB', 'MG1655deltarelBE', 'M9glucose', 'na', 'RNAP', 20150513)\n",
      "('relB', 'MG1655deltarelBE', 'M9glucose', 'na', 'RelBE', 20150513)\n",
      "('xylE', 'MG1655', 'M9xylose', 'na', 'CRP', 20160710)\n",
      "('xylE', 'MG1655', 'M9xylose', 'na', 'RNAP_10', 20160710)\n",
      "('xylE', 'MG1655', 'M9xylose', 'na', 'RNAP_35', 20160710)\n",
      "('xylE', 'MG1655', 'M9xylose', 'na', 'XylR', 20160710)\n",
      "('yebG', 'MG1655', 'M9glucose', 'mitoC', 'All', 20170717)\n",
      "('yebG', 'MG1655', 'M9glucose', 'mitoC', 'LexA', 20170717)\n",
      "('yebG', 'MG1655', 'M9glucose', 'mitoC', 'RNAP', 20170717)\n",
      "('yebG', 'MG1655', 'M9glucose', 'na', 'All', 20170717)\n",
      "('yebG', 'MG1655', 'M9glucose', 'na', 'LexA', 20170717)\n",
      "('yebG', 'MG1655', 'M9glucose', 'na', 'RNAP', 20170717)\n"
     ]
    }
   ],
   "source": [
    "grouped_df = df[['promoter','strain','media','condition', 'TF', 'date']].copy()\n",
    "grouped_df = grouped_df.groupby(['promoter','strain','media', 'condition','TF','date'])\n",
    "\n",
    "print('(promoter, strain, growth media, TF, date)')\n",
    "print('------------------------------------')\n",
    "for key, item in grouped_df:\n",
    "    print(key)"
   ]
  },
  {
   "cell_type": "markdown",
   "metadata": {},
   "source": [
    "As an example, lets say we want to plot our RNAP energy matrix and logo from the _lacZ_ promoter data, with cells grown in M9 minimal media with 0.5% glucose (strain MG1655). We will create a new pandas dataframe to hold only this data. CHange the choice of promoter, strain, media, and TF to a different row listed above."
   ]
  },
  {
   "cell_type": "code",
   "execution_count": 4,
   "metadata": {
    "collapsed": true,
    "scrolled": true
   },
   "outputs": [],
   "source": [
    "df_forplotting = df[(df.promoter == 'purT') & \n",
    "        (df.strain == 'MG1655') & \n",
    "        (df.media == 'M9glucose') &\n",
    "        (df.TF == 'PurR') &\n",
    "        (df.date == 20160710) &\n",
    "        (df.condition == 'adenine')].copy()\n"
   ]
  },
  {
   "cell_type": "markdown",
   "metadata": {},
   "source": [
    "We can now plot the energy matrix and sequence logo:"
   ]
  },
  {
   "cell_type": "code",
   "execution_count": 5,
   "metadata": {},
   "outputs": [
    {
     "name": "stdout",
     "output_type": "stream",
     "text": [
      "-0.362589438676\n",
      "0.362589438676\n"
     ]
    },
    {
     "data": {
      "image/png": "[encoded data removed]",
      "text/plain": [
       "<matplotlib.figure.Figure at 0x10b836588>"
      ]
     },
     "metadata": {},
     "output_type": "display_data"
    }
   ],
   "source": [
    "# Plot logo on top of matrix\n",
    "fig = plt.figure(figsize=(0.35*len(df_forplotting),2.5))\n",
    "ax = fig.add_subplot(111)\n",
    "utils.logo_on_matrix(ax,df_forplotting,relative_scale=1,relative_spacing=.5)\n",
    "# fig.savefig('relB_RNAP.pdf')"
   ]
  },
  {
   "cell_type": "markdown",
   "metadata": {
    "collapsed": true
   },
   "source": [
    "Lets also save the gauge-fixed matrix:"
   ]
  },
  {
   "cell_type": "code",
   "execution_count": 6,
   "metadata": {
    "collapsed": true
   },
   "outputs": [],
   "source": [
    "# df_forplotting[['A','C','G','T']].to_csv('purT_emat_df.csv')"
   ]
  },
  {
   "cell_type": "code",
   "execution_count": null,
   "metadata": {
    "collapsed": true
   },
   "outputs": [],
   "source": []
  }
 ],
 "metadata": {
  "kernelspec": {
   "display_name": "Python 3",
   "language": "python",
   "name": "python3"
  },
  "language_info": {
   "codemirror_mode": {
    "name": "ipython",
    "version": 3
   },
   "file_extension": ".py",
   "mimetype": "text/x-python",
   "name": "python",
   "nbconvert_exporter": "python",
   "pygments_lexer": "ipython3",
   "version": "3.6.2"
  }
 },
 "nbformat": 4,
 "nbformat_minor": 2
}
